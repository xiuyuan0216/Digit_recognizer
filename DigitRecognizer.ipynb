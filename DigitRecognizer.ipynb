{
 "cells": [
  {
   "cell_type": "code",
   "execution_count": 73,
   "id": "8d345d08",
   "metadata": {},
   "outputs": [],
   "source": [
    "import numpy as np\n",
    "import pandas as pd \n",
    "import matplotlib.pyplot as plt\n",
    "import seaborn as sns\n",
    "import torch\n",
    "import torch.nn as nn\n",
    "from torchvision import transforms,datasets,models"
   ]
  },
  {
   "cell_type": "code",
   "execution_count": 74,
   "id": "7ae1eaf7",
   "metadata": {},
   "outputs": [],
   "source": [
    "train = pd.read_csv(\"./train.csv\")\n",
    "test = pd.read_csv(\"./test.csv\")"
   ]
  },
  {
   "cell_type": "code",
   "execution_count": 75,
   "id": "a3f7db2a",
   "metadata": {},
   "outputs": [
    {
     "data": {
      "text/plain": [
       "((42000, 785), (28000, 784))"
      ]
     },
     "execution_count": 75,
     "metadata": {},
     "output_type": "execute_result"
    }
   ],
   "source": [
    "train.shape, test.shape"
   ]
  },
  {
   "cell_type": "code",
   "execution_count": 76,
   "id": "6f025ce7",
   "metadata": {},
   "outputs": [],
   "source": [
    "train_data = []\n",
    "test_data = []\n",
    "img_size = (28,28)"
   ]
  },
  {
   "cell_type": "code",
   "execution_count": 77,
   "id": "b75dccdb",
   "metadata": {},
   "outputs": [],
   "source": [
    "for i in range(train.shape[0]):\n",
    "    data = train.iloc[i,1:]\n",
    "    data = np.array(data)\n",
    "    data = np.reshape(data, img_size)\n",
    "    train_data.append(data)\n",
    "train_data = np.array(train_data)"
   ]
  },
  {
   "cell_type": "code",
   "execution_count": 78,
   "id": "b0213d92",
   "metadata": {},
   "outputs": [
    {
     "data": {
      "text/plain": [
       "(42000, 28, 28)"
      ]
     },
     "execution_count": 78,
     "metadata": {},
     "output_type": "execute_result"
    }
   ],
   "source": [
    "train_data.shape"
   ]
  },
  {
   "cell_type": "code",
   "execution_count": 79,
   "id": "b0001b40",
   "metadata": {},
   "outputs": [
    {
     "data": {
      "image/png": "[encoded data removed]",
      "text/plain": [
       "<Figure size 432x288 with 1 Axes>"
      ]
     },
     "metadata": {
      "needs_background": "light"
     },
     "output_type": "display_data"
    }
   ],
   "source": [
    "for i in range(test.shape[0]):\n",
    "    data = test.iloc[i,:]\n",
    "    data = np.array(data)\n",
    "    data = np.reshape(data, img_size)\n",
    "    test_data.append(data)\n",
    "test_data = np.array(test_data)\n",
    "plt.imshow(test_data[0],cmap=\"gray\")\n",
    "plt.show()"
   ]
  },
  {
   "cell_type": "code",
   "execution_count": 80,
   "id": "6c3d673f",
   "metadata": {},
   "outputs": [
    {
     "data": {
      "image/png": "[encoded data removed]",
      "text/plain": [
       "<Figure size 432x288 with 1 Axes>"
      ]
     },
     "metadata": {
      "needs_background": "light"
     },
     "output_type": "display_data"
    }
   ],
   "source": [
    "plt.imshow(test_data[1],cmap=\"gray\")\n",
    "plt.show()"
   ]
  },
  {
   "cell_type": "code",
   "execution_count": 81,
   "id": "115e8ff2",
   "metadata": {},
   "outputs": [
    {
     "data": {
      "image/png": "[encoded data removed]",
      "text/plain": [
       "<Figure size 432x288 with 1 Axes>"
      ]
     },
     "metadata": {
      "needs_background": "light"
     },
     "output_type": "display_data"
    }
   ],
   "source": [
    "plt.imshow(test_data[2],cmap=\"gray\")\n",
    "plt.show()"
   ]
  },
  {
   "cell_type": "code",
   "execution_count": 82,
   "id": "00a95039",
   "metadata": {},
   "outputs": [
    {
     "data": {
      "text/plain": [
       "(28000, 28, 28)"
      ]
     },
     "execution_count": 82,
     "metadata": {},
     "output_type": "execute_result"
    }
   ],
   "source": [
    "test_data.shape"
   ]
  },
  {
   "cell_type": "code",
   "execution_count": null,
   "id": "cd93f82a",
   "metadata": {},
   "outputs": [],
   "source": []
  },
  {
   "cell_type": "code",
   "execution_count": 83,
   "id": "1a5c1e08",
   "metadata": {},
   "outputs": [],
   "source": [
    "labels = list(train.iloc[:,0])\n",
    "labels = np.array(labels)\n",
    "labels = np.reshape(labels, (train.shape[0], 1))"
   ]
  },
  {
   "cell_type": "code",
   "execution_count": 84,
   "id": "44547513",
   "metadata": {},
   "outputs": [
    {
     "data": {
      "text/plain": [
       "(42000, 1)"
      ]
     },
     "execution_count": 84,
     "metadata": {},
     "output_type": "execute_result"
    }
   ],
   "source": [
    "labels.shape"
   ]
  },
  {
   "cell_type": "code",
   "execution_count": 85,
   "id": "69c5551b",
   "metadata": {},
   "outputs": [],
   "source": [
    "class ImageTransform():\n",
    "    def __init__(self):\n",
    "        self.data_transform = {\n",
    "            \"train\":transforms.Compose(\n",
    "                [transforms.ToTensor()]\n",
    "            ),\n",
    "            \"test\":transforms.Compose([\n",
    "                transforms.ToTensor()\n",
    "            ])\n",
    "        }\n",
    "    def __call__(self, img, phase=\"train\"):\n",
    "        return self.data_transform[phase](img)"
   ]
  },
  {
   "cell_type": "code",
   "execution_count": 86,
   "id": "708d9eca",
   "metadata": {},
   "outputs": [],
   "source": [
    "class Dataset(torch.utils.data.Dataset):\n",
    "    def __init__(self, datas, labels, transform=None, phase=\"train\"):\n",
    "        self.datas = datas\n",
    "        self.labels = labels\n",
    "        self.transform = transform\n",
    "        self.phase = phase\n",
    "        self.img_size = img_size\n",
    "    def __len__(self):\n",
    "        return len(self.datas)\n",
    "    def __getitem__(self, index):\n",
    "        img = self.datas[index]\n",
    "        img_transformed = self.transform(img, self.phase)\n",
    "        if self.labels is not None:\n",
    "            label = self.labels[index][0]\n",
    "            label = torch.tensor(label)\n",
    "            label = label.type(torch.LongTensor)\n",
    "            return img_transformed, label\n",
    "        else:\n",
    "            return img_transformed"
   ]
  },
  {
   "cell_type": "code",
   "execution_count": 87,
   "id": "8712ba3e",
   "metadata": {},
   "outputs": [],
   "source": [
    "class CNN(nn.Module):\n",
    "    def __init__(self):\n",
    "        super().__init__()\n",
    "        self.features = nn.Sequential(\n",
    "            nn.Conv2d(in_channels=1, out_channels=64, kernel_size=5, padding=2),\n",
    "            nn.ReLU(inplace=True),\n",
    "            nn.MaxPool2d(kernel_size=2),\n",
    "            nn.Conv2d(in_channels=64, out_channels=128, kernel_size=5, padding=2),\n",
    "            nn.ReLU(inplace=True),\n",
    "            nn.MaxPool2d(kernel_size=2),\n",
    "            nn.Conv2d(in_channels=128,out_channels=256, kernel_size=5, padding=2),\n",
    "            nn.ReLU(inplace=True),\n",
    "            nn.MaxPool2d(kernel_size=2),\n",
    "            nn.Conv2d(in_channels=256,out_channels=128, kernel_size=5, padding=2),\n",
    "            nn.ReLU(inplace=True),\n",
    "        )\n",
    "        self.classifier = nn.Linear(in_features=3*3*128, out_features=10)\n",
    "    def forward(self,x):\n",
    "        x = x.to(torch.float32)\n",
    "        x = self.features(x)\n",
    "        x = x.view(x.size(0),-1)\n",
    "        x = self.classifier(x)\n",
    "        return x"
   ]
  },
  {
   "cell_type": "code",
   "execution_count": 88,
   "id": "b1473089",
   "metadata": {},
   "outputs": [],
   "source": [
    "batch_size = 32\n",
    "train_dataset = Dataset(train_data, labels, transform=ImageTransform(), phase=\"train\")\n",
    "test_dataset = Dataset(test_data, labels=None, transform=ImageTransform(), phase=\"test\")\n",
    "\n",
    "train_dataloader = torch.utils.data.DataLoader(train_dataset, batch_size, shuffle=True)\n",
    "test_dataloader = torch.utils.data.DataLoader(test_dataset, 1, shuffle=False)"
   ]
  },
  {
   "cell_type": "code",
   "execution_count": 89,
   "id": "84606261",
   "metadata": {},
   "outputs": [],
   "source": [
    "model = CNN()\n",
    "device = torch.device(\"mps\")\n",
    "model = model.to(device)\n",
    "criterion = nn.CrossEntropyLoss()\n",
    "optimizer = torch.optim.Adam(model.parameters(), lr=0.001, weight_decay=5e-4)\n"
   ]
  },
  {
   "cell_type": "code",
   "execution_count": null,
   "id": "e291b12f",
   "metadata": {},
   "outputs": [],
   "source": []
  },
  {
   "cell_type": "code",
   "execution_count": 90,
   "id": "8bbe9128",
   "metadata": {},
   "outputs": [
    {
     "name": "stdout",
     "output_type": "stream",
     "text": [
      "Epoch 0/50\n",
      "------------------\n",
      "Train Loss inf Acc 0.9317\n",
      "Epoch 1/50\n",
      "------------------\n",
      "Train Loss 0.0736 Acc 0.9781\n",
      "Epoch 2/50\n",
      "------------------\n",
      "Train Loss 0.0607 Acc 0.9817\n",
      "Epoch 3/50\n",
      "------------------\n",
      "Train Loss 0.0542 Acc 0.9837\n",
      "Epoch 4/50\n",
      "------------------\n",
      "Train Loss 0.0478 Acc 0.9850\n",
      "Epoch 5/50\n",
      "------------------\n",
      "Train Loss 0.0492 Acc 0.9864\n",
      "Epoch 6/50\n",
      "------------------\n",
      "Train Loss 0.0433 Acc 0.9875\n",
      "Epoch 7/50\n",
      "------------------\n",
      "Train Loss 0.0386 Acc 0.9885\n",
      "Epoch 8/50\n",
      "------------------\n",
      "Train Loss 0.0339 Acc 0.9898\n",
      "Epoch 9/50\n",
      "------------------\n",
      "Train Loss 0.0384 Acc 0.9891\n",
      "Epoch 10/50\n",
      "------------------\n",
      "Train Loss 0.0340 Acc 0.9893\n",
      "Epoch 11/50\n",
      "------------------\n",
      "Train Loss 0.0316 Acc 0.9905\n",
      "Epoch 12/50\n",
      "------------------\n",
      "Train Loss 0.0328 Acc 0.9902\n",
      "Epoch 13/50\n",
      "------------------\n",
      "Train Loss 0.0336 Acc 0.9902\n",
      "Epoch 14/50\n",
      "------------------\n",
      "Train Loss 0.0295 Acc 0.9915\n",
      "Epoch 15/50\n",
      "------------------\n",
      "Train Loss 0.0281 Acc 0.9916\n",
      "Epoch 16/50\n",
      "------------------\n",
      "Train Loss 0.0332 Acc 0.9896\n",
      "Epoch 17/50\n",
      "------------------\n",
      "Train Loss 0.0267 Acc 0.9922\n",
      "Epoch 18/50\n",
      "------------------\n",
      "Train Loss 0.0299 Acc 0.9915\n",
      "Epoch 19/50\n",
      "------------------\n",
      "Train Loss 0.0266 Acc 0.9919\n",
      "Epoch 20/50\n",
      "------------------\n",
      "Train Loss 0.0276 Acc 0.9918\n",
      "Epoch 21/50\n",
      "------------------\n",
      "Train Loss 0.0256 Acc 0.9926\n",
      "Epoch 22/50\n",
      "------------------\n",
      "Train Loss 0.0257 Acc 0.9930\n",
      "Epoch 23/50\n",
      "------------------\n",
      "Train Loss 0.0260 Acc 0.9924\n",
      "Epoch 24/50\n",
      "------------------\n",
      "Train Loss 0.0245 Acc 0.9924\n",
      "Epoch 25/50\n",
      "------------------\n",
      "Train Loss 0.0282 Acc 0.9918\n",
      "Epoch 26/50\n",
      "------------------\n",
      "Train Loss 0.0261 Acc 0.9921\n",
      "Epoch 27/50\n",
      "------------------\n",
      "Train Loss 0.0268 Acc 0.9925\n",
      "Epoch 28/50\n",
      "------------------\n",
      "Train Loss 0.0265 Acc 0.9926\n",
      "Epoch 29/50\n",
      "------------------\n",
      "Train Loss 0.0221 Acc 0.9935\n",
      "Epoch 30/50\n",
      "------------------\n",
      "Train Loss 0.0268 Acc 0.9923\n",
      "Epoch 31/50\n",
      "------------------\n",
      "Train Loss 0.0217 Acc 0.9933\n",
      "Epoch 32/50\n",
      "------------------\n",
      "Train Loss 0.0253 Acc 0.9924\n",
      "Epoch 33/50\n",
      "------------------\n",
      "Train Loss 0.0242 Acc 0.9931\n",
      "Epoch 34/50\n",
      "------------------\n",
      "Train Loss 0.0227 Acc 0.9927\n",
      "Epoch 35/50\n",
      "------------------\n",
      "Train Loss 0.0233 Acc 0.9933\n",
      "Epoch 36/50\n",
      "------------------\n",
      "Train Loss 0.0286 Acc 0.9918\n",
      "Epoch 37/50\n",
      "------------------\n",
      "Train Loss 0.0222 Acc 0.9936\n",
      "Epoch 38/50\n",
      "------------------\n",
      "Train Loss 0.0204 Acc 0.9940\n",
      "Epoch 39/50\n",
      "------------------\n",
      "Train Loss 0.0223 Acc 0.9934\n",
      "Epoch 40/50\n",
      "------------------\n",
      "Train Loss 0.0258 Acc 0.9927\n",
      "Epoch 41/50\n",
      "------------------\n",
      "Train Loss 0.0216 Acc 0.9939\n",
      "Epoch 42/50\n",
      "------------------\n",
      "Train Loss 0.0221 Acc 0.9934\n",
      "Epoch 43/50\n",
      "------------------\n",
      "Train Loss 0.0254 Acc 0.9927\n",
      "Epoch 44/50\n",
      "------------------\n",
      "Train Loss 0.0206 Acc 0.9937\n",
      "Epoch 45/50\n",
      "------------------\n",
      "Train Loss 0.0200 Acc 0.9939\n",
      "Epoch 46/50\n",
      "------------------\n",
      "Train Loss 0.0251 Acc 0.9927\n",
      "Epoch 47/50\n",
      "------------------\n",
      "Train Loss 0.0207 Acc 0.9941\n",
      "Epoch 48/50\n",
      "------------------\n",
      "Train Loss 0.0232 Acc 0.9934\n",
      "Epoch 49/50\n",
      "------------------\n",
      "Train Loss 0.0212 Acc 0.9940\n"
     ]
    }
   ],
   "source": [
    "num_epochs = 50\n",
    "\n",
    "for epoch in range(num_epochs):\n",
    "    print(\"Epoch {}/{}\".format(epoch, num_epochs))\n",
    "    print(\"------------------\")\n",
    "    epoch_loss = 0.0\n",
    "    epoch_corrects = 0\n",
    "    \n",
    "    for inputs, labels in train_dataloader:\n",
    "        inputs, labels = inputs.to(device), labels.to(device)\n",
    "        optimizer.zero_grad()\n",
    "        outputs = model(inputs)\n",
    "        loss = criterion(outputs, labels)\n",
    "        preds = torch.max(outputs, 1)[1]\n",
    "        loss.backward()\n",
    "        optimizer.step()\n",
    "        \n",
    "        epoch_loss+=loss.item()*inputs.size(0)\n",
    "        epoch_corrects+=torch.sum(preds==labels.data)\n",
    "        \n",
    "    epoch_loss = epoch_loss/len(train_dataloader.dataset)\n",
    "    epoch_acc = float(epoch_corrects)/len(train_dataloader.dataset)\n",
    "    print(\"Train Loss {:.4f} Acc {:.4f}\".format(epoch_loss, epoch_acc))"
   ]
  },
  {
   "cell_type": "code",
   "execution_count": 91,
   "id": "09799b58",
   "metadata": {},
   "outputs": [],
   "source": [
    "test_preds = []\n",
    "imageId = 1\n",
    "for inputs in test_dataloader:\n",
    "    optimizer.zero_grad()\n",
    "    inputs = inputs.to(device)\n",
    "    outputs = model(inputs)\n",
    "    _, preds = torch.max(outputs, 1)\n",
    "    test_preds.append([imageId, preds.cpu().detach().numpy()[0]])\n",
    "    imageId+=1"
   ]
  },
  {
   "cell_type": "code",
   "execution_count": 92,
   "id": "b13df86e",
   "metadata": {},
   "outputs": [
    {
     "data": {
      "text/plain": [
       "28000"
      ]
     },
     "execution_count": 92,
     "metadata": {},
     "output_type": "execute_result"
    }
   ],
   "source": [
    "len(test_preds)"
   ]
  },
  {
   "cell_type": "code",
   "execution_count": 93,
   "id": "57088f18",
   "metadata": {},
   "outputs": [],
   "source": [
    "submission = pd.DataFrame(test_preds)\n",
    "submission.columns=['ImageId', \"Label\"]"
   ]
  },
  {
   "cell_type": "code",
   "execution_count": 94,
   "id": "2b85a36f",
   "metadata": {},
   "outputs": [
    {
     "data": {
      "text/html": [
       "<div>\n",
       "<style scoped>\n",
       "    .dataframe tbody tr th:only-of-type {\n",
       "        vertical-align: middle;\n",
       "    }\n",
       "\n",
       "    .dataframe tbody tr th {\n",
       "        vertical-align: top;\n",
       "    }\n",
       "\n",
       "    .dataframe thead th {\n",
       "        text-align: right;\n",
       "    }\n",
       "</style>\n",
       "<table border=\"1\" class=\"dataframe\">\n",
       "  <thead>\n",
       "    <tr style=\"text-align: right;\">\n",
       "      <th></th>\n",
       "      <th>ImageId</th>\n",
       "      <th>Label</th>\n",
       "    </tr>\n",
       "  </thead>\n",
       "  <tbody>\n",
       "    <tr>\n",
       "      <th>0</th>\n",
       "      <td>1</td>\n",
       "      <td>2</td>\n",
       "    </tr>\n",
       "    <tr>\n",
       "      <th>1</th>\n",
       "      <td>2</td>\n",
       "      <td>0</td>\n",
       "    </tr>\n",
       "    <tr>\n",
       "      <th>2</th>\n",
       "      <td>3</td>\n",
       "      <td>9</td>\n",
       "    </tr>\n",
       "    <tr>\n",
       "      <th>3</th>\n",
       "      <td>4</td>\n",
       "      <td>0</td>\n",
       "    </tr>\n",
       "    <tr>\n",
       "      <th>4</th>\n",
       "      <td>5</td>\n",
       "      <td>3</td>\n",
       "    </tr>\n",
       "  </tbody>\n",
       "</table>\n",
       "</div>"
      ],
      "text/plain": [
       "   ImageId  Label\n",
       "0        1      2\n",
       "1        2      0\n",
       "2        3      9\n",
       "3        4      0\n",
       "4        5      3"
      ]
     },
     "execution_count": 94,
     "metadata": {},
     "output_type": "execute_result"
    }
   ],
   "source": [
    "submission.head()"
   ]
  },
  {
   "cell_type": "code",
   "execution_count": 95,
   "id": "d4fd21f7",
   "metadata": {},
   "outputs": [],
   "source": [
    "submission.to_csv(\"submission.csv\", index=False)"
   ]
  },
  {
   "cell_type": "code",
   "execution_count": null,
   "id": "f4dcab90",
   "metadata": {},
   "outputs": [],
   "source": []
  }
 ],
 "metadata": {
  "kernelspec": {
   "display_name": "Python 3 (ipykernel)",
   "language": "python",
   "name": "python3"
  },
  "language_info": {
   "codemirror_mode": {
    "name": "ipython",
    "version": 3
   },
   "file_extension": ".py",
   "mimetype": "text/x-python",
   "name": "python",
   "nbconvert_exporter": "python",
   "pygments_lexer": "ipython3",
   "version": "3.9.12"
  }
 },
 "nbformat": 4,
 "nbformat_minor": 5
}
